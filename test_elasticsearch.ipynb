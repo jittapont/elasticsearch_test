{
 "cells": [
  {
   "cell_type": "markdown",
   "metadata": {},
   "source": [
    "### Get sample data"
   ]
  },
  {
   "cell_type": "code",
   "execution_count": 45,
   "metadata": {},
   "outputs": [],
   "source": [
    "import csv"
   ]
  },
  {
   "cell_type": "code",
   "execution_count": 47,
   "metadata": {},
   "outputs": [],
   "source": [
    "datas = []\n",
    "with open('sample_data.csv', mode='r') as f:\n",
    "    reader = csv.DictReader(f)\n",
    "    for row in reader:\n",
    "        row = dict(row)\n",
    "        row[\"item_id\"] = int(row[\"item_id\"])\n",
    "        row[\"item_price\"] = float(row[\"item_price\"])\n",
    "        row[\"rating\"] = float(row[\"rating\"])\n",
    "        datas.append(dict(row))"
   ]
  },
  {
   "cell_type": "code",
   "execution_count": 48,
   "metadata": {},
   "outputs": [
    {
     "data": {
      "text/plain": [
       "[{'item_id': 1,\n",
       "  'item_name': 'TNG 3 ply washable cloth mask Replace Surgical face masks Antibacterial water resistant',\n",
       "  'item_price': 8.5,\n",
       "  'category': 'Protective Clothing and Equipment',\n",
       "  'rating': 4.8},\n",
       " {'item_id': 2,\n",
       "  'item_name': 'HUAWEI MateBook D15 (15.6\" FHD IPS Laptop / AMD Ryzen 5 3500U + Radeon Vega 8 / 8GB RAM)',\n",
       "  'item_price': 798.0,\n",
       "  'category': 'Computers & Peripherals',\n",
       "  'rating': 4.9},\n",
       " {'item_id': 3,\n",
       "  'item_name': 'Mohamm English Letter & Number Sticker',\n",
       "  'item_price': 0.27,\n",
       "  'category': 'Stationery & Supplies ',\n",
       "  'rating': 4.9},\n",
       " {'item_id': 4,\n",
       "  'item_name': 'Super Hero Canvas Zipper Pencil Case Fashion Student Stationery Supplies',\n",
       "  'item_price': 0.6,\n",
       "  'category': 'Stationery & Supplies ',\n",
       "  'rating': 4.8},\n",
       " {'item_id': 5,\n",
       "  'item_name': '[WFRV]Baby Girl Birthday Party Dress Costume Princess Belle Kids Clothes ',\n",
       "  'item_price': 6.3,\n",
       "  'category': 'Kids Fashion ',\n",
       "  'rating': 4.9}]"
      ]
     },
     "execution_count": 48,
     "metadata": {},
     "output_type": "execute_result"
    }
   ],
   "source": [
    "datas"
   ]
  },
  {
   "cell_type": "markdown",
   "metadata": {},
   "source": [
    "### Create index in elastic search"
   ]
  },
  {
   "cell_type": "code",
   "execution_count": 134,
   "metadata": {},
   "outputs": [],
   "source": [
    "from elasticsearch import Elasticsearch\n",
    "from pprint import pprint"
   ]
  },
  {
   "cell_type": "code",
   "execution_count": 140,
   "metadata": {},
   "outputs": [],
   "source": [
    "client = Elasticsearch('localhost')"
   ]
  },
  {
   "cell_type": "code",
   "execution_count": 141,
   "metadata": {},
   "outputs": [
    {
     "data": {
      "text/plain": [
       "True"
      ]
     },
     "execution_count": 141,
     "metadata": {},
     "output_type": "execute_result"
    }
   ],
   "source": [
    "client.ping()"
   ]
  },
  {
   "cell_type": "code",
   "execution_count": 143,
   "metadata": {},
   "outputs": [],
   "source": [
    "mappings = {\n",
    "    'mappings': {\n",
    "        'properties': {\n",
    "            'category': {\n",
    "                'fields': {\n",
    "                    'keyword': {\n",
    "                        'ignore_above': 256, 'type': 'keyword'\n",
    "                    }\n",
    "                },\n",
    "                'type': 'text'\n",
    "            },\n",
    "            'item_id': {\n",
    "                'type': 'long'\n",
    "            },\n",
    "            'item_name': {\n",
    "                'fields': {\n",
    "                    'keyword': {\n",
    "                        'ignore_above': 256, 'type': 'keyword'\n",
    "                    }\n",
    "                },\n",
    "                'type': 'text'\n",
    "            },\n",
    "            'item_price': {\n",
    "                'type': 'float'\n",
    "            },\n",
    "            'rating': {\n",
    "                'type': 'float'\n",
    "            }\n",
    "        }\n",
    "    }\n",
    "}"
   ]
  },
  {
   "cell_type": "code",
   "execution_count": 144,
   "metadata": {},
   "outputs": [],
   "source": [
    "# !curl -X DELETE \"localhost:9200/shopee?pretty\""
   ]
  },
  {
   "cell_type": "code",
   "execution_count": 145,
   "metadata": {},
   "outputs": [
    {
     "data": {
      "text/plain": [
       "{'acknowledged': True, 'shards_acknowledged': True, 'index': 'shopee'}"
      ]
     },
     "execution_count": 145,
     "metadata": {},
     "output_type": "execute_result"
    }
   ],
   "source": [
    "client.indices.create(index=\"shopee\", body=mappings)"
   ]
  },
  {
   "cell_type": "markdown",
   "metadata": {},
   "source": [
    "### Insert data into elastic search"
   ]
  },
  {
   "cell_type": "code",
   "execution_count": 146,
   "metadata": {},
   "outputs": [
    {
     "name": "stdout",
     "output_type": "stream",
     "text": [
      "Result : {'_index': 'shopee', '_type': '_doc', '_id': '1', '_version': 1, 'result': 'created', '_shards': {'total': 2, 'successful': 1, 'failed': 0}, '_seq_no': 0, '_primary_term': 1}\n",
      "Result : {'_index': 'shopee', '_type': '_doc', '_id': '2', '_version': 1, 'result': 'created', '_shards': {'total': 2, 'successful': 1, 'failed': 0}, '_seq_no': 1, '_primary_term': 1}\n",
      "Result : {'_index': 'shopee', '_type': '_doc', '_id': '3', '_version': 1, 'result': 'created', '_shards': {'total': 2, 'successful': 1, 'failed': 0}, '_seq_no': 2, '_primary_term': 1}\n",
      "Result : {'_index': 'shopee', '_type': '_doc', '_id': '4', '_version': 1, 'result': 'created', '_shards': {'total': 2, 'successful': 1, 'failed': 0}, '_seq_no': 3, '_primary_term': 1}\n",
      "Result : {'_index': 'shopee', '_type': '_doc', '_id': '5', '_version': 1, 'result': 'created', '_shards': {'total': 2, 'successful': 1, 'failed': 0}, '_seq_no': 4, '_primary_term': 1}\n"
     ]
    }
   ],
   "source": [
    "for index, data in enumerate(datas, 1):\n",
    "    result = client.index(index=\"shopee\", id=index, body=data)\n",
    "    print(f\"Result : {result}\")"
   ]
  },
  {
   "cell_type": "markdown",
   "metadata": {},
   "source": [
    "### Basic query"
   ]
  },
  {
   "cell_type": "code",
   "execution_count": 147,
   "metadata": {},
   "outputs": [],
   "source": [
    "query = {\n",
    "    \"query\": {\n",
    "        \"match_all\": {}\n",
    "    }\n",
    "}"
   ]
  },
  {
   "cell_type": "code",
   "execution_count": 148,
   "metadata": {},
   "outputs": [
    {
     "data": {
      "text/plain": [
       "{'took': 288,\n",
       " 'timed_out': False,\n",
       " '_shards': {'total': 1, 'successful': 1, 'skipped': 0, 'failed': 0},\n",
       " 'hits': {'total': {'value': 5, 'relation': 'eq'},\n",
       "  'max_score': 1.0,\n",
       "  'hits': [{'_index': 'shopee',\n",
       "    '_type': '_doc',\n",
       "    '_id': '1',\n",
       "    '_score': 1.0,\n",
       "    '_source': {'item_id': 1,\n",
       "     'item_name': 'TNG 3 ply washable cloth mask Replace Surgical face masks Antibacterial water resistant',\n",
       "     'item_price': 8.5,\n",
       "     'category': 'Protective Clothing and Equipment',\n",
       "     'rating': 4.8}},\n",
       "   {'_index': 'shopee',\n",
       "    '_type': '_doc',\n",
       "    '_id': '2',\n",
       "    '_score': 1.0,\n",
       "    '_source': {'item_id': 2,\n",
       "     'item_name': 'HUAWEI MateBook D15 (15.6\" FHD IPS Laptop / AMD Ryzen 5 3500U + Radeon Vega 8 / 8GB RAM)',\n",
       "     'item_price': 798.0,\n",
       "     'category': 'Computers & Peripherals',\n",
       "     'rating': 4.9}},\n",
       "   {'_index': 'shopee',\n",
       "    '_type': '_doc',\n",
       "    '_id': '3',\n",
       "    '_score': 1.0,\n",
       "    '_source': {'item_id': 3,\n",
       "     'item_name': 'Mohamm English Letter & Number Sticker',\n",
       "     'item_price': 0.27,\n",
       "     'category': 'Stationery & Supplies ',\n",
       "     'rating': 4.9}},\n",
       "   {'_index': 'shopee',\n",
       "    '_type': '_doc',\n",
       "    '_id': '4',\n",
       "    '_score': 1.0,\n",
       "    '_source': {'item_id': 4,\n",
       "     'item_name': 'Super Hero Canvas Zipper Pencil Case Fashion Student Stationery Supplies',\n",
       "     'item_price': 0.6,\n",
       "     'category': 'Stationery & Supplies ',\n",
       "     'rating': 4.8}},\n",
       "   {'_index': 'shopee',\n",
       "    '_type': '_doc',\n",
       "    '_id': '5',\n",
       "    '_score': 1.0,\n",
       "    '_source': {'item_id': 5,\n",
       "     'item_name': '[WFRV]Baby Girl Birthday Party Dress Costume Princess Belle Kids Clothes ',\n",
       "     'item_price': 6.3,\n",
       "     'category': 'Kids Fashion ',\n",
       "     'rating': 4.9}}]}}"
      ]
     },
     "execution_count": 148,
     "metadata": {},
     "output_type": "execute_result"
    }
   ],
   "source": [
    "client.search(index=\"shopee\", body=query)"
   ]
  },
  {
   "cell_type": "markdown",
   "metadata": {},
   "source": [
    "### Query using term query"
   ]
  },
  {
   "cell_type": "code",
   "execution_count": 153,
   "metadata": {},
   "outputs": [],
   "source": [
    "query = {\n",
    "    \"query\": {\n",
    "        \"term\": {\n",
    "            \"category\": \"Stationery\"\n",
    "        }\n",
    "    }\n",
    "}"
   ]
  },
  {
   "cell_type": "code",
   "execution_count": 154,
   "metadata": {},
   "outputs": [
    {
     "data": {
      "text/plain": [
       "{'took': 3,\n",
       " 'timed_out': False,\n",
       " '_shards': {'total': 1, 'successful': 1, 'skipped': 0, 'failed': 0},\n",
       " 'hits': {'total': {'value': 0, 'relation': 'eq'},\n",
       "  'max_score': None,\n",
       "  'hits': []}}"
      ]
     },
     "execution_count": 154,
     "metadata": {},
     "output_type": "execute_result"
    }
   ],
   "source": [
    "client.search(index=\"shopee\", body=query)"
   ]
  },
  {
   "cell_type": "markdown",
   "metadata": {},
   "source": [
    "### Query using match query (Better search)"
   ]
  },
  {
   "cell_type": "code",
   "execution_count": 170,
   "metadata": {},
   "outputs": [],
   "source": [
    "query = {\n",
    "    \"query\": {\n",
    "        \"match\": {\n",
    "            \"item_name\": \"huawei\"\n",
    "        }\n",
    "    }\n",
    "}"
   ]
  },
  {
   "cell_type": "code",
   "execution_count": 171,
   "metadata": {},
   "outputs": [
    {
     "data": {
      "text/plain": [
       "{'took': 2,\n",
       " 'timed_out': False,\n",
       " '_shards': {'total': 1, 'successful': 1, 'skipped': 0, 'failed': 0},\n",
       " 'hits': {'total': {'value': 1, 'relation': 'eq'},\n",
       "  'max_score': 1.1689311,\n",
       "  'hits': [{'_index': 'shopee',\n",
       "    '_type': '_doc',\n",
       "    '_id': '2',\n",
       "    '_score': 1.1689311,\n",
       "    '_source': {'item_id': 2,\n",
       "     'item_name': 'HUAWEI MateBook D15 (15.6\" FHD IPS Laptop / AMD Ryzen 5 3500U + Radeon Vega 8 / 8GB RAM)',\n",
       "     'item_price': 798.0,\n",
       "     'category': 'Computers & Peripherals',\n",
       "     'rating': 4.9}}]}}"
      ]
     },
     "execution_count": 171,
     "metadata": {},
     "output_type": "execute_result"
    }
   ],
   "source": [
    "client.search(index=\"shopee\", body=query)"
   ]
  },
  {
   "cell_type": "markdown",
   "metadata": {},
   "source": [
    "### Query using match phrase query (Better search)"
   ]
  },
  {
   "cell_type": "code",
   "execution_count": 196,
   "metadata": {},
   "outputs": [],
   "source": [
    "query = {\n",
    "    \"query\": {\n",
    "        \"match_phrase\": {\n",
    "            \"item_name\": {\n",
    "                \"query\": \"huawei laptop\",\n",
    "                \"slop\": 6\n",
    "            }\n",
    "        }\n",
    "    }\n",
    "}"
   ]
  },
  {
   "cell_type": "code",
   "execution_count": 197,
   "metadata": {},
   "outputs": [
    {
     "data": {
      "text/plain": [
       "{'took': 2,\n",
       " 'timed_out': False,\n",
       " '_shards': {'total': 1, 'successful': 1, 'skipped': 0, 'failed': 0},\n",
       " 'hits': {'total': {'value': 1, 'relation': 'eq'},\n",
       "  'max_score': 0.5724969,\n",
       "  'hits': [{'_index': 'shopee',\n",
       "    '_type': '_doc',\n",
       "    '_id': '2',\n",
       "    '_score': 0.5724969,\n",
       "    '_source': {'item_id': 2,\n",
       "     'item_name': 'HUAWEI MateBook D15 (15.6\" FHD IPS Laptop / AMD Ryzen 5 3500U + Radeon Vega 8 / 8GB RAM)',\n",
       "     'item_price': 798.0,\n",
       "     'category': 'Computers & Peripherals',\n",
       "     'rating': 4.9}}]}}"
      ]
     },
     "execution_count": 197,
     "metadata": {},
     "output_type": "execute_result"
    }
   ],
   "source": [
    "client.search(index=\"shopee\", body=query)"
   ]
  },
  {
   "cell_type": "markdown",
   "metadata": {},
   "source": [
    "### Query using boolean statements (should, must)"
   ]
  },
  {
   "cell_type": "code",
   "execution_count": 216,
   "metadata": {},
   "outputs": [],
   "source": [
    "query = {\n",
    "    \"query\": {\n",
    "        \"bool\": {\n",
    "            \"must\": [ # And condition\n",
    "                    {\n",
    "                        \"match\": {\n",
    "                            \"item_name\": \"huawei\"\n",
    "                        }\n",
    "                    }      \n",
    "            ],\n",
    "            \"should\": [ # Or condition\n",
    "                {\n",
    "                    \"match\": {\n",
    "                        \"item_name\": \"huawei\"\n",
    "                    },\n",
    "                    \"match\": {\n",
    "                        \"item_name\": \"Birthday party\"\n",
    "                    },\n",
    "                }\n",
    "            ]\n",
    "        }\n",
    "    }\n",
    "}"
   ]
  },
  {
   "cell_type": "code",
   "execution_count": 218,
   "metadata": {},
   "outputs": [
    {
     "data": {
      "text/plain": [
       "{'took': 2,\n",
       " 'timed_out': False,\n",
       " '_shards': {'total': 1, 'successful': 1, 'skipped': 0, 'failed': 0},\n",
       " 'hits': {'total': {'value': 1, 'relation': 'eq'},\n",
       "  'max_score': 1.1689311,\n",
       "  'hits': [{'_index': 'shopee',\n",
       "    '_type': '_doc',\n",
       "    '_id': '2',\n",
       "    '_score': 1.1689311,\n",
       "    '_source': {'item_id': 2,\n",
       "     'item_name': 'HUAWEI MateBook D15 (15.6\" FHD IPS Laptop / AMD Ryzen 5 3500U + Radeon Vega 8 / 8GB RAM)',\n",
       "     'item_price': 798.0,\n",
       "     'category': 'Computers & Peripherals',\n",
       "     'rating': 4.9}}]}}"
      ]
     },
     "execution_count": 218,
     "metadata": {},
     "output_type": "execute_result"
    }
   ],
   "source": [
    "client.search(index=\"shopee\", body=query)"
   ]
  },
  {
   "cell_type": "markdown",
   "metadata": {},
   "source": [
    "### Aggregation"
   ]
  },
  {
   "cell_type": "code",
   "execution_count": 234,
   "metadata": {},
   "outputs": [],
   "source": [
    "query = {\n",
    "    \"query\": {\n",
    "        \"match_all\": {}\n",
    "    },\n",
    "    \"aggs\": {\n",
    "        \"by_rating\": {\n",
    "            \"histogram\": {\n",
    "                \"field\": \"rating\",\n",
    "                \"interval\": 0.1\n",
    "            }\n",
    "        }\n",
    "    }\n",
    "}"
   ]
  },
  {
   "cell_type": "code",
   "execution_count": 235,
   "metadata": {},
   "outputs": [
    {
     "data": {
      "text/plain": [
       "{'took': 2,\n",
       " 'timed_out': False,\n",
       " '_shards': {'total': 1, 'successful': 1, 'skipped': 0, 'failed': 0},\n",
       " 'hits': {'total': {'value': 5, 'relation': 'eq'},\n",
       "  'max_score': 1.0,\n",
       "  'hits': [{'_index': 'shopee',\n",
       "    '_type': '_doc',\n",
       "    '_id': '1',\n",
       "    '_score': 1.0,\n",
       "    '_source': {'item_id': 1,\n",
       "     'item_name': 'TNG 3 ply washable cloth mask Replace Surgical face masks Antibacterial water resistant',\n",
       "     'item_price': 8.5,\n",
       "     'category': 'Protective Clothing and Equipment',\n",
       "     'rating': 4.8}},\n",
       "   {'_index': 'shopee',\n",
       "    '_type': '_doc',\n",
       "    '_id': '2',\n",
       "    '_score': 1.0,\n",
       "    '_source': {'item_id': 2,\n",
       "     'item_name': 'HUAWEI MateBook D15 (15.6\" FHD IPS Laptop / AMD Ryzen 5 3500U + Radeon Vega 8 / 8GB RAM)',\n",
       "     'item_price': 798.0,\n",
       "     'category': 'Computers & Peripherals',\n",
       "     'rating': 4.9}},\n",
       "   {'_index': 'shopee',\n",
       "    '_type': '_doc',\n",
       "    '_id': '3',\n",
       "    '_score': 1.0,\n",
       "    '_source': {'item_id': 3,\n",
       "     'item_name': 'Mohamm English Letter & Number Sticker',\n",
       "     'item_price': 0.27,\n",
       "     'category': 'Stationery & Supplies ',\n",
       "     'rating': 4.9}},\n",
       "   {'_index': 'shopee',\n",
       "    '_type': '_doc',\n",
       "    '_id': '4',\n",
       "    '_score': 1.0,\n",
       "    '_source': {'item_id': 4,\n",
       "     'item_name': 'Super Hero Canvas Zipper Pencil Case Fashion Student Stationery Supplies',\n",
       "     'item_price': 0.6,\n",
       "     'category': 'Stationery & Supplies ',\n",
       "     'rating': 4.8}},\n",
       "   {'_index': 'shopee',\n",
       "    '_type': '_doc',\n",
       "    '_id': '5',\n",
       "    '_score': 1.0,\n",
       "    '_source': {'item_id': 5,\n",
       "     'item_name': '[WFRV]Baby Girl Birthday Party Dress Costume Princess Belle Kids Clothes ',\n",
       "     'item_price': 6.3,\n",
       "     'category': 'Kids Fashion ',\n",
       "     'rating': 4.9}}]},\n",
       " 'aggregations': {'by_rating': {'buckets': [{'key': 4.800000000000001,\n",
       "     'doc_count': 2},\n",
       "    {'key': 4.9, 'doc_count': 3}]}}}"
      ]
     },
     "execution_count": 235,
     "metadata": {},
     "output_type": "execute_result"
    }
   ],
   "source": [
    "client.search(index=\"shopee\", body=query)"
   ]
  },
  {
   "cell_type": "code",
   "execution_count": null,
   "metadata": {},
   "outputs": [],
   "source": []
  },
  {
   "cell_type": "code",
   "execution_count": null,
   "metadata": {},
   "outputs": [],
   "source": []
  }
 ],
 "metadata": {
  "kernelspec": {
   "display_name": "Python 3",
   "language": "python",
   "name": "python3"
  },
  "language_info": {
   "codemirror_mode": {
    "name": "ipython",
    "version": 3
   },
   "file_extension": ".py",
   "mimetype": "text/x-python",
   "name": "python",
   "nbconvert_exporter": "python",
   "pygments_lexer": "ipython3",
   "version": "3.7.9"
  }
 },
 "nbformat": 4,
 "nbformat_minor": 4
}
